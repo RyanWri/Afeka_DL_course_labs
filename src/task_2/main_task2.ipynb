{
 "cells": [
  {
   "cell_type": "markdown",
   "metadata": {},
   "source": [
    "# LINK TO GITHUB: [Ran+Shany Repo](https://github.com/RyanWri/Afeka_DL_course_labs/tree/main/src/task_2)\n",
    "\n",
    "**All our code is organized, you can find task2 in src/task_2 directory**"
   ]
  },
  {
   "cell_type": "code",
   "execution_count": 1,
   "metadata": {},
   "outputs": [],
   "source": [
    "import os\n",
    "import sys\n",
    "import asyncio\n",
    "import pandas as pd\n",
    "import numpy as np\n",
    "import matplotlib.pyplot as plt\n",
    "import nest_asyncio\n",
    "import json\n",
    "from statsmodels.tsa.seasonal import seasonal_decompose\n",
    "from pandas.plotting import lag_plot\n",
    "from sklearn.preprocessing import MinMaxScaler\n",
    "from sklearn.metrics import mean_squared_error, r2_score, mean_absolute_error\n",
    "from sklearn.linear_model import LinearRegression\n",
    "from sklearn.model_selection import train_test_split\n",
    "import seaborn as sns\n"
   ]
  },
  {
   "cell_type": "code",
   "execution_count": 2,
   "metadata": {},
   "outputs": [],
   "source": [
    "# Allow nested use of asyncio.run()\n",
    "nest_asyncio.apply()"
   ]
  },
  {
   "cell_type": "markdown",
   "metadata": {},
   "source": [
    "**Next Cell is for Import readibility**"
   ]
  },
  {
   "cell_type": "code",
   "execution_count": 3,
   "metadata": {},
   "outputs": [
    {
     "name": "stdout",
     "output_type": "stream",
     "text": [
      "c:\\Afeka\\Afeka_DL_course_labs\n"
     ]
    }
   ],
   "source": [
    "# Prepend the src directory to the PYTHONPATH\n",
    "sys.path.insert(0, os.path.abspath(os.getcwd()))\n",
    "\n",
    "# Verify that the path has been added\n",
    "print(sys.path[0])"
   ]
  },
  {
   "cell_type": "markdown",
   "metadata": {},
   "source": [
    "# 1 Use the dataset from UCI Machine Learning Repository\n",
    "**We read the data and split it into 10 different chunks for faster reading, data files located in src/task_2/data directory**\n",
    "<br>*Asyncio is an asynchornous library for fast processing time*"
   ]
  },
  {
   "cell_type": "code",
   "execution_count": 4,
   "metadata": {},
   "outputs": [],
   "source": [
    "from src.task_2.eda.eda import load_and_process_chunk\n",
    "\n",
    "async def process_data_parallel():\n",
    "    rootdir = os.path.join(os.getcwd(), \"src\", \"task_2\", \"data\")\n",
    "\n",
    "    # Traverse Data Directory and get paths to all chunk files\n",
    "    file_names = []\n",
    "    for subdir, dirs, files in os.walk(rootdir):\n",
    "        for file in files:\n",
    "            file_names.append(os.path.join(subdir, file))\n",
    "    \n",
    "    # Load and process each chunk\n",
    "    tasks = [load_and_process_chunk(file) for file in file_names]\n",
    "    results = await asyncio.gather(*tasks)\n",
    "\n",
    "    # Concatenate all chunks into a single DataFrame\n",
    "    full_df = pd.concat(results)\n",
    "    return full_df\n",
    "\n",
    "# Run the asynchronous processing\n",
    "full_df = asyncio.run(process_data_parallel())"
   ]
  },
  {
   "cell_type": "markdown",
   "metadata": {},
   "source": [
    "# 2. Perform Exploratory Data Analysis (EDA) of the dataset"
   ]
  },
  {
   "cell_type": "code",
   "execution_count": 5,
   "metadata": {},
   "outputs": [
    {
     "data": {
      "text/html": [
       "<div>\n",
       "<style scoped>\n",
       "    .dataframe tbody tr th:only-of-type {\n",
       "        vertical-align: middle;\n",
       "    }\n",
       "\n",
       "    .dataframe tbody tr th {\n",
       "        vertical-align: top;\n",
       "    }\n",
       "\n",
       "    .dataframe thead th {\n",
       "        text-align: right;\n",
       "    }\n",
       "</style>\n",
       "<table border=\"1\" class=\"dataframe\">\n",
       "  <thead>\n",
       "    <tr style=\"text-align: right;\">\n",
       "      <th></th>\n",
       "      <th>Global_active_power</th>\n",
       "      <th>Global_reactive_power</th>\n",
       "      <th>Voltage</th>\n",
       "      <th>Global_intensity</th>\n",
       "      <th>Sub_metering_1</th>\n",
       "      <th>Sub_metering_2</th>\n",
       "      <th>Sub_metering_3</th>\n",
       "    </tr>\n",
       "    <tr>\n",
       "      <th>dt</th>\n",
       "      <th></th>\n",
       "      <th></th>\n",
       "      <th></th>\n",
       "      <th></th>\n",
       "      <th></th>\n",
       "      <th></th>\n",
       "      <th></th>\n",
       "    </tr>\n",
       "  </thead>\n",
       "  <tbody>\n",
       "    <tr>\n",
       "      <th>2006-12-16 17:24:00</th>\n",
       "      <td>4.216</td>\n",
       "      <td>0.418</td>\n",
       "      <td>234.84</td>\n",
       "      <td>18.4</td>\n",
       "      <td>0.0</td>\n",
       "      <td>1.0</td>\n",
       "      <td>17.0</td>\n",
       "    </tr>\n",
       "    <tr>\n",
       "      <th>2006-12-16 17:25:00</th>\n",
       "      <td>5.360</td>\n",
       "      <td>0.436</td>\n",
       "      <td>233.63</td>\n",
       "      <td>23.0</td>\n",
       "      <td>0.0</td>\n",
       "      <td>1.0</td>\n",
       "      <td>16.0</td>\n",
       "    </tr>\n",
       "    <tr>\n",
       "      <th>2006-12-16 17:26:00</th>\n",
       "      <td>5.374</td>\n",
       "      <td>0.498</td>\n",
       "      <td>233.29</td>\n",
       "      <td>23.0</td>\n",
       "      <td>0.0</td>\n",
       "      <td>2.0</td>\n",
       "      <td>17.0</td>\n",
       "    </tr>\n",
       "    <tr>\n",
       "      <th>2006-12-16 17:27:00</th>\n",
       "      <td>5.388</td>\n",
       "      <td>0.502</td>\n",
       "      <td>233.74</td>\n",
       "      <td>23.0</td>\n",
       "      <td>0.0</td>\n",
       "      <td>1.0</td>\n",
       "      <td>17.0</td>\n",
       "    </tr>\n",
       "    <tr>\n",
       "      <th>2006-12-16 17:28:00</th>\n",
       "      <td>3.666</td>\n",
       "      <td>0.528</td>\n",
       "      <td>235.68</td>\n",
       "      <td>15.8</td>\n",
       "      <td>0.0</td>\n",
       "      <td>1.0</td>\n",
       "      <td>17.0</td>\n",
       "    </tr>\n",
       "  </tbody>\n",
       "</table>\n",
       "</div>"
      ],
      "text/plain": [
       "                     Global_active_power  Global_reactive_power  Voltage  \\\n",
       "dt                                                                         \n",
       "2006-12-16 17:24:00                4.216                  0.418   234.84   \n",
       "2006-12-16 17:25:00                5.360                  0.436   233.63   \n",
       "2006-12-16 17:26:00                5.374                  0.498   233.29   \n",
       "2006-12-16 17:27:00                5.388                  0.502   233.74   \n",
       "2006-12-16 17:28:00                3.666                  0.528   235.68   \n",
       "\n",
       "                     Global_intensity  Sub_metering_1  Sub_metering_2  \\\n",
       "dt                                                                      \n",
       "2006-12-16 17:24:00              18.4             0.0             1.0   \n",
       "2006-12-16 17:25:00              23.0             0.0             1.0   \n",
       "2006-12-16 17:26:00              23.0             0.0             2.0   \n",
       "2006-12-16 17:27:00              23.0             0.0             1.0   \n",
       "2006-12-16 17:28:00              15.8             0.0             1.0   \n",
       "\n",
       "                     Sub_metering_3  \n",
       "dt                                   \n",
       "2006-12-16 17:24:00            17.0  \n",
       "2006-12-16 17:25:00            16.0  \n",
       "2006-12-16 17:26:00            17.0  \n",
       "2006-12-16 17:27:00            17.0  \n",
       "2006-12-16 17:28:00            17.0  "
      ]
     },
     "metadata": {},
     "output_type": "display_data"
    },
    {
     "data": {
      "text/html": [
       "<div>\n",
       "<style scoped>\n",
       "    .dataframe tbody tr th:only-of-type {\n",
       "        vertical-align: middle;\n",
       "    }\n",
       "\n",
       "    .dataframe tbody tr th {\n",
       "        vertical-align: top;\n",
       "    }\n",
       "\n",
       "    .dataframe thead th {\n",
       "        text-align: right;\n",
       "    }\n",
       "</style>\n",
       "<table border=\"1\" class=\"dataframe\">\n",
       "  <thead>\n",
       "    <tr style=\"text-align: right;\">\n",
       "      <th></th>\n",
       "      <th>Global_active_power</th>\n",
       "      <th>Global_reactive_power</th>\n",
       "      <th>Voltage</th>\n",
       "      <th>Global_intensity</th>\n",
       "      <th>Sub_metering_1</th>\n",
       "      <th>Sub_metering_2</th>\n",
       "      <th>Sub_metering_3</th>\n",
       "    </tr>\n",
       "  </thead>\n",
       "  <tbody>\n",
       "    <tr>\n",
       "      <th>count</th>\n",
       "      <td>2.049280e+06</td>\n",
       "      <td>2.049280e+06</td>\n",
       "      <td>2.049280e+06</td>\n",
       "      <td>2.049280e+06</td>\n",
       "      <td>2.049280e+06</td>\n",
       "      <td>2.049280e+06</td>\n",
       "      <td>2.049280e+06</td>\n",
       "    </tr>\n",
       "    <tr>\n",
       "      <th>mean</th>\n",
       "      <td>1.083262e+00</td>\n",
       "      <td>1.237145e-01</td>\n",
       "      <td>2.408399e+02</td>\n",
       "      <td>4.627759e+00</td>\n",
       "      <td>1.121923e+00</td>\n",
       "      <td>1.298520e+00</td>\n",
       "      <td>6.458447e+00</td>\n",
       "    </tr>\n",
       "    <tr>\n",
       "      <th>std</th>\n",
       "      <td>1.021964e+00</td>\n",
       "      <td>1.127220e-01</td>\n",
       "      <td>3.239987e+00</td>\n",
       "      <td>4.444396e+00</td>\n",
       "      <td>6.153031e+00</td>\n",
       "      <td>5.822026e+00</td>\n",
       "      <td>8.437154e+00</td>\n",
       "    </tr>\n",
       "    <tr>\n",
       "      <th>min</th>\n",
       "      <td>7.600000e-02</td>\n",
       "      <td>0.000000e+00</td>\n",
       "      <td>2.232000e+02</td>\n",
       "      <td>2.000000e-01</td>\n",
       "      <td>0.000000e+00</td>\n",
       "      <td>0.000000e+00</td>\n",
       "      <td>0.000000e+00</td>\n",
       "    </tr>\n",
       "    <tr>\n",
       "      <th>25%</th>\n",
       "      <td>3.080000e-01</td>\n",
       "      <td>4.800000e-02</td>\n",
       "      <td>2.389900e+02</td>\n",
       "      <td>1.400000e+00</td>\n",
       "      <td>0.000000e+00</td>\n",
       "      <td>0.000000e+00</td>\n",
       "      <td>0.000000e+00</td>\n",
       "    </tr>\n",
       "    <tr>\n",
       "      <th>50%</th>\n",
       "      <td>6.020000e-01</td>\n",
       "      <td>1.000000e-01</td>\n",
       "      <td>2.410100e+02</td>\n",
       "      <td>2.600000e+00</td>\n",
       "      <td>0.000000e+00</td>\n",
       "      <td>0.000000e+00</td>\n",
       "      <td>1.000000e+00</td>\n",
       "    </tr>\n",
       "    <tr>\n",
       "      <th>75%</th>\n",
       "      <td>1.528000e+00</td>\n",
       "      <td>1.940000e-01</td>\n",
       "      <td>2.428900e+02</td>\n",
       "      <td>6.400000e+00</td>\n",
       "      <td>0.000000e+00</td>\n",
       "      <td>1.000000e+00</td>\n",
       "      <td>1.700000e+01</td>\n",
       "    </tr>\n",
       "    <tr>\n",
       "      <th>max</th>\n",
       "      <td>5.578000e+00</td>\n",
       "      <td>1.390000e+00</td>\n",
       "      <td>2.541500e+02</td>\n",
       "      <td>4.840000e+01</td>\n",
       "      <td>8.800000e+01</td>\n",
       "      <td>8.000000e+01</td>\n",
       "      <td>3.100000e+01</td>\n",
       "    </tr>\n",
       "  </tbody>\n",
       "</table>\n",
       "</div>"
      ],
      "text/plain": [
       "       Global_active_power  Global_reactive_power       Voltage  \\\n",
       "count         2.049280e+06           2.049280e+06  2.049280e+06   \n",
       "mean          1.083262e+00           1.237145e-01  2.408399e+02   \n",
       "std           1.021964e+00           1.127220e-01  3.239987e+00   \n",
       "min           7.600000e-02           0.000000e+00  2.232000e+02   \n",
       "25%           3.080000e-01           4.800000e-02  2.389900e+02   \n",
       "50%           6.020000e-01           1.000000e-01  2.410100e+02   \n",
       "75%           1.528000e+00           1.940000e-01  2.428900e+02   \n",
       "max           5.578000e+00           1.390000e+00  2.541500e+02   \n",
       "\n",
       "       Global_intensity  Sub_metering_1  Sub_metering_2  Sub_metering_3  \n",
       "count      2.049280e+06    2.049280e+06    2.049280e+06    2.049280e+06  \n",
       "mean       4.627759e+00    1.121923e+00    1.298520e+00    6.458447e+00  \n",
       "std        4.444396e+00    6.153031e+00    5.822026e+00    8.437154e+00  \n",
       "min        2.000000e-01    0.000000e+00    0.000000e+00    0.000000e+00  \n",
       "25%        1.400000e+00    0.000000e+00    0.000000e+00    0.000000e+00  \n",
       "50%        2.600000e+00    0.000000e+00    0.000000e+00    1.000000e+00  \n",
       "75%        6.400000e+00    0.000000e+00    1.000000e+00    1.700000e+01  \n",
       "max        4.840000e+01    8.800000e+01    8.000000e+01    3.100000e+01  "
      ]
     },
     "metadata": {},
     "output_type": "display_data"
    },
    {
     "name": "stdout",
     "output_type": "stream",
     "text": [
      "<class 'pandas.core.frame.DataFrame'>\n",
      "DatetimeIndex: 2049280 entries, 2006-12-16 17:24:00 to 2008-12-06 07:12:00\n",
      "Data columns (total 7 columns):\n",
      " #   Column                 Dtype  \n",
      "---  ------                 -----  \n",
      " 0   Global_active_power    float64\n",
      " 1   Global_reactive_power  float64\n",
      " 2   Voltage                float64\n",
      " 3   Global_intensity       float64\n",
      " 4   Sub_metering_1         float64\n",
      " 5   Sub_metering_2         float64\n",
      " 6   Sub_metering_3         float64\n",
      "dtypes: float64(7)\n",
      "memory usage: 125.1 MB\n"
     ]
    },
    {
     "data": {
      "text/plain": [
       "None"
      ]
     },
     "metadata": {},
     "output_type": "display_data"
    }
   ],
   "source": [
    "# Display the first few rows of the dataset\n",
    "display(full_df.head())\n",
    "\n",
    "# Summary statistics\n",
    "display(full_df.describe())\n",
    "\n",
    "# Display information\n",
    "display(full_df.info())"
   ]
  },
  {
   "cell_type": "markdown",
   "metadata": {},
   "source": [
    "Creating a new feature by converting the Global active power from KW to W/h"
   ]
  },
  {
   "cell_type": "code",
   "execution_count": 5,
   "metadata": {},
   "outputs": [],
   "source": [
    "# Convert kilowatt to watt hourly and divide by 60 to represent hourly data\n",
    "full_df['Global_active_power_wh'] = full_df['Global_active_power'] * 1000 / 60"
   ]
  },
  {
   "cell_type": "code",
   "execution_count": 6,
   "metadata": {},
   "outputs": [],
   "source": [
    "# Create a new feature: kilowatt per hour minus sub_metering_1, sub_metering_2, sub_metering_3\n",
    "full_df['active_energy_without_subs'] = full_df['Global_active_power_wh']-full_df['Sub_metering_1']-full_df['Sub_metering_2']-full_df['Sub_metering_3']"
   ]
  },
  {
   "cell_type": "code",
   "execution_count": 7,
   "metadata": {},
   "outputs": [],
   "source": [
    "# Resample to hourly intervals\n",
    "df_hourly = full_df.resample('h').mean()\n",
    "df_hourly = df_hourly.dropna()"
   ]
  },
  {
   "cell_type": "code",
   "execution_count": 16,
   "metadata": {},
   "outputs": [],
   "source": [
    "# Create lagged feature for Global_active_power\n",
    "df_hourly['Global_active_power_lag1'] = df_hourly['Global_active_power_wh'].shift(1)\n",
    "\n",
    "# Drop rows with NaN values created by the shift operation\n",
    "df_hourly = df_hourly.dropna()\n",
    "\n",
    "# Define the target variable and features\n",
    "features = ['Global_active_power_wh','active_energy_without_subs', 'Global_active_power_lag1']\n",
    "target = 'Global_active_power'\n",
    "\n",
    "def create_sequences(data, sequence_length, features, label):\n",
    "    sequences = []\n",
    "    targets = []\n",
    "    for i in range(0, len(data) - sequence_length, sequence_length):\n",
    "        seq = data[features].iloc[i:i + sequence_length].values\n",
    "        label = data[target].iloc[i + sequence_length]\n",
    "        sequences.append(seq)\n",
    "        targets.append(label)\n",
    "    return np.array(sequences), np.array(targets)\n",
    "\n",
    "sequence_length = 60\n",
    "sequences, targets = create_sequences(df_hourly, sequence_length, features, target)"
   ]
  },
  {
   "cell_type": "code",
   "execution_count": 17,
   "metadata": {},
   "outputs": [],
   "source": [
    "# Train-test split\n",
    "X_train, X_test, y_train, y_test = train_test_split(sequences, targets, test_size=0.2, random_state=42)\n",
    "\n",
    "# Scale the features\n",
    "scaler = MinMaxScaler()\n",
    "X_train_scaled = scaler.fit_transform(X_train.reshape(-1, X_train.shape[-1])).reshape(X_train.shape)\n",
    "X_test_scaled = scaler.transform(X_test.reshape(-1, X_test.shape[-1])).reshape(X_test.shape)\n",
    "\n",
    "scaler_y = MinMaxScaler()\n",
    "\n",
    "y_train_scaled = scaler_y.fit_transform(y_train.reshape(-1, 1))\n",
    "y_test_scaled = scaler_y.transform(y_test.reshape(-1, 1))\n"
   ]
  },
  {
   "cell_type": "code",
   "execution_count": 18,
   "metadata": {},
   "outputs": [
    {
     "name": "stdout",
     "output_type": "stream",
     "text": [
      "Epoch 1/50\n"
     ]
    },
    {
     "name": "stderr",
     "output_type": "stream",
     "text": [
      "c:\\Afeka\\Afeka_DL_course_labs\\venv\\Lib\\site-packages\\keras\\src\\layers\\rnn\\rnn.py:204: UserWarning: Do not pass an `input_shape`/`input_dim` argument to a layer. When using Sequential models, prefer using an `Input(shape)` object as the first layer in the model instead.\n",
      "  super().__init__(**kwargs)\n"
     ]
    },
    {
     "name": "stdout",
     "output_type": "stream",
     "text": [
      "15/15 - 5s - 305ms/step - loss: 2.3479\n",
      "Epoch 2/50\n",
      "15/15 - 0s - 27ms/step - loss: 1.9171\n",
      "Epoch 3/50\n",
      "15/15 - 0s - 31ms/step - loss: 1.5885\n",
      "Epoch 4/50\n",
      "15/15 - 0s - 29ms/step - loss: 1.2480\n",
      "Epoch 5/50\n",
      "15/15 - 0s - 28ms/step - loss: 0.9465\n",
      "Epoch 6/50\n",
      "15/15 - 0s - 26ms/step - loss: 0.6979\n",
      "Epoch 7/50\n",
      "15/15 - 0s - 27ms/step - loss: 0.5855\n",
      "Epoch 8/50\n",
      "15/15 - 0s - 28ms/step - loss: 0.5006\n",
      "Epoch 9/50\n",
      "15/15 - 0s - 30ms/step - loss: 0.4838\n",
      "Epoch 10/50\n",
      "15/15 - 0s - 29ms/step - loss: 0.4655\n",
      "Epoch 11/50\n",
      "15/15 - 1s - 48ms/step - loss: 0.4441\n",
      "Epoch 12/50\n",
      "15/15 - 0s - 24ms/step - loss: 0.4326\n",
      "Epoch 13/50\n",
      "15/15 - 0s - 26ms/step - loss: 0.4378\n",
      "Epoch 14/50\n",
      "15/15 - 1s - 37ms/step - loss: 0.4412\n"
     ]
    }
   ],
   "source": [
    "import tensorflow as tf\n",
    "from keras import Sequential\n",
    "from keras import layers\n",
    "from keras import callbacks\n",
    "\n",
    "# Design the LSTM model\n",
    "model = Sequential()\n",
    "model.add(layers.LSTM(50, activation='relu', input_shape=(X_train_scaled.shape[1], X_train_scaled.shape[2])))\n",
    "model.add(layers.BatchNormalization())\n",
    "model.add(layers.Dropout(0.2))\n",
    "model.add(layers.Dense(1))\n",
    "model.compile(optimizer='adam', loss='mse')\n",
    "\n",
    "# Define early stopping\n",
    "early_stopping = callbacks.EarlyStopping(monitor='loss', patience=4, restore_best_weights=True)\n",
    "\n",
    "# Train the model\n",
    "history = model.fit(X_train_scaled, y_train, epochs=50, batch_size=32, verbose=2, shuffle=False, callbacks=[early_stopping])\n"
   ]
  },
  {
   "cell_type": "code",
   "execution_count": 19,
   "metadata": {},
   "outputs": [
    {
     "name": "stdout",
     "output_type": "stream",
     "text": [
      "\u001b[1m15/15\u001b[0m \u001b[32m━━━━━━━━━━━━━━━━━━━━\u001b[0m\u001b[37m\u001b[0m \u001b[1m1s\u001b[0m 37ms/step\n",
      "\u001b[1m4/4\u001b[0m \u001b[32m━━━━━━━━━━━━━━━━━━━━\u001b[0m\u001b[37m\u001b[0m \u001b[1m0s\u001b[0m 8ms/step \n",
      "LSTM - MAE: 4.7314177498176075, MSE: 23.653710533969427, R²: -14.180462477955903\n"
     ]
    },
    {
     "data": {
      "image/png": "[encoded data removed]",
      "text/plain": [
       "<Figure size 1200x600 with 1 Axes>"
      ]
     },
     "metadata": {},
     "output_type": "display_data"
    }
   ],
   "source": [
    "# Make predictions\n",
    "y_pred_train = model.predict(X_train_scaled)\n",
    "y_pred_test = model.predict(X_test_scaled)\n",
    "\n",
    "# Inverse transform the predictions and actual values\n",
    "y_test_inv = scaler_y.inverse_transform(y_test_scaled).reshape(-1) * (100 / 60)\n",
    "y_pred_test_inv = scaler_y.inverse_transform(y_pred_test).reshape(-1)\n",
    "\n",
    "# Evaluate model performance\n",
    "from sklearn.metrics import mean_absolute_error, mean_squared_error, r2_score\n",
    "\n",
    "mae = mean_absolute_error(y_test_inv, y_pred_test_inv)\n",
    "mse = mean_squared_error(y_test_inv, y_pred_test_inv)\n",
    "r2 = r2_score(y_test_inv, y_pred_test_inv)\n",
    "\n",
    "print(f\"LSTM - MAE: {mae}, MSE: {mse}, R²: {r2}\")\n",
    "\n",
    "# Plot predictions vs actual values\n",
    "import matplotlib.pyplot as plt\n",
    "\n",
    "plt.figure(figsize=(12, 6))\n",
    "plt.plot(y_test_inv, label='Actual (Watt-hour)', color='blue')\n",
    "plt.plot(y_pred_test_inv, label='Predicted (Watt-hour)', color='red')\n",
    "plt.xlabel('Time')\n",
    "plt.ylabel('Global Active Power (Watt-hour)')\n",
    "plt.title('Actual vs Predicted Global Active Power (LSTM)')\n",
    "plt.legend()\n",
    "plt.xticks(rotation=45)\n",
    "plt.show()"
   ]
  },
  {
   "cell_type": "code",
   "execution_count": null,
   "metadata": {},
   "outputs": [],
   "source": []
  },
  {
   "cell_type": "markdown",
   "metadata": {},
   "source": [
    "Creating a new feature to represents the active energy consumed every minute (in watt hour) in the household by electrical equipment not measured in sub-meterings 1, 2 and 3"
   ]
  },
  {
   "cell_type": "code",
   "execution_count": null,
   "metadata": {},
   "outputs": [],
   "source": []
  },
  {
   "cell_type": "code",
   "execution_count": null,
   "metadata": {},
   "outputs": [],
   "source": [
    "# Let's find out how many days have not been recoreded in our dataset\n",
    "missing_days_df = np.round(full_df[['Global_active_energy']].resample('ME').count()/1440).astype(int)\n",
    "missing_days_df.columns = ['Number of missing days']\n",
    "missing_days_df['Number of missing days'] = missing_days_df.index.astype(str).str[-2:].astype(int) - missing_days_df['Number of missing days']\n",
    "# Drop the rows where the number of missing days is 0\n",
    "missing_days_df.drop(missing_days_df[missing_days_df['Number of missing days']==0].index,inplace=True)\n",
    "\n",
    "# Drawing the plot\n",
    "plt.figure(figsize=(15,7))\n",
    "sns.barplot(\n",
    "    data = missing_days_df,\n",
    "    x = missing_days_df.index.date,\n",
    "    y = missing_days_df.sort_values(by=['Number of missing days'],ascending=False)['Number of missing days']\n",
    ")\n",
    "plt.xticks(rotation = 90)\n",
    "plt.yticks(np.arange(1,32,2))\n",
    "plt.xlabel('')\n",
    "plt.grid(axis='y')\n",
    "plt.title('Missing Days Information',fontsize=20)\n",
    "plt.show()"
   ]
  },
  {
   "cell_type": "code",
   "execution_count": null,
   "metadata": {},
   "outputs": [],
   "source": [
    "import datetime\n",
    "def plot_day_data(day:datetime.date) -> None:\n",
    "    '''\n",
    "    The function \"plot_day_data\" plots the \"Global_active_energy\" values \n",
    "    for a given date as input. The input date is used to filter the data\n",
    "    and fill in any missing values with NaN. On the plot, the missing\n",
    "    values are marked with markers. The X-axis displays xticks for the\n",
    "    specified day and the Y-axis is labeled as \"value\". The final plot \n",
    "    is displayed using the matplotlib library.\n",
    "    \n",
    "    Parameters:\n",
    "        day : datetime.date\n",
    "        \n",
    "    Return:\n",
    "        None\n",
    "    '''\n",
    "    # Create time range and xtick for the day\n",
    "    time_range = pd.date_range(start='{}-{}-01'.format(day.year, day.month), end='{}-{}-{}'.format(day.year, day.month, day.day), freq='1min')\n",
    "    xtick_range = pd.date_range(start='{}-{}-01'.format(day.year, day.month), end='{}-{}-{}'.format(day.year, day.month, day.day), freq='D')\n",
    "    \n",
    "    # Filter the data for the day and fill missing values with NaN\n",
    "    tmp_df = full_df[['Global_active_energy']][full_df.index.isin(time_range)].copy()\n",
    "    tmp_df = tmp_df.combine_first(pd.DataFrame(index=time_range, columns=tmp_df.columns))\n",
    "    \n",
    "    # Calculate the marker place\n",
    "    marker_place = tmp_df[['Global_active_energy']].max().item() / 2\n",
    "    # Identify the missing values\n",
    "    missing_values = tmp_df.isna().any(axis=1)\n",
    "    \n",
    "    # Drawing the plot\n",
    "    plt.figure(figsize=(15, 5))\n",
    "    plt.plot(\n",
    "        tmp_df[['Global_active_energy']][~missing_values],\n",
    "        label = 'Normal Data'\n",
    "    )\n",
    "    plt.plot(\n",
    "        tmp_df[['Global_active_energy']][missing_values].fillna(marker_place), \n",
    "        marker='o', \n",
    "        linestyle='None',\n",
    "        label = 'Missing Data',\n",
    "        color = 'r'\n",
    "    )\n",
    "    plt.xticks(xtick_range, rotation=90)\n",
    "    plt.grid(axis='y')\n",
    "    plt.title('Global_active_energy ({}:{})'.format(str(time_range[1].date()),str(time_range[-1].date())),fontsize=15)\n",
    "    plt.ylabel('value')\n",
    "    plt.legend()\n",
    "    plt.show()\n",
    "    \n",
    "    return None\n",
    "for day in missing_days_df.index.date:\n",
    "    plot_day_data(day)"
   ]
  },
  {
   "cell_type": "code",
   "execution_count": null,
   "metadata": {},
   "outputs": [],
   "source": []
  },
  {
   "cell_type": "code",
   "execution_count": null,
   "metadata": {},
   "outputs": [],
   "source": [
    "f= plt.figure(figsize=(21,3))\n",
    "\n",
    "ax=f.add_subplot(131)\n",
    "dfm = full_df.resample('ME').mean()\n",
    "sns.heatmap(dfm.corr(), vmin=-1, vmax=1, annot=True)\n",
    "plt.title('Monthly resampling', size=12)\n",
    "\n",
    "ax=f.add_subplot(132)\n",
    "dfd = full_df.resample('D').mean()\n",
    "sns.heatmap(dfd.corr(), vmin=-1, vmax=1, annot=True)\n",
    "plt.title('Daily resampling', size=12)\n",
    "  \n",
    "ax=f.add_subplot(133)\n",
    "dfh = full_df.resample('h').mean()\n",
    "sns.heatmap(dfh.corr(), vmin=-1, vmax=1, annot=True)\n",
    "plt.title('Hourly resampling', size=12)\n",
    "plt.show()"
   ]
  },
  {
   "cell_type": "code",
   "execution_count": null,
   "metadata": {},
   "outputs": [],
   "source": [
    "plt.figure(figsize=(10, 6))\n",
    "sns.histplot(full_df['Global_active_power'], bins=50, kde=True)\n",
    "plt.title('Distribution of Global Active Power')\n",
    "plt.xlabel('Global Active Power (kilowatt)')\n",
    "plt.ylabel('Frequency')\n",
    "plt.show()"
   ]
  },
  {
   "cell_type": "markdown",
   "metadata": {},
   "source": [
    "## 2.1 Visualize Time Series Trends"
   ]
  },
  {
   "cell_type": "code",
   "execution_count": null,
   "metadata": {},
   "outputs": [],
   "source": [
    "plt.figure(figsize=(14, 7))\n",
    "plt.plot(full_df['Global_active_power'], label='Global Active Power')\n",
    "plt.xlabel('Datetime')\n",
    "plt.ylabel('Global Active Power (kilowatt)')\n",
    "plt.title('Global Active Power Over Time')\n",
    "plt.legend()\n",
    "plt.show()"
   ]
  },
  {
   "cell_type": "markdown",
   "metadata": {},
   "source": [
    "## 2.2 Check for Seasonality and Cyclical Patterns"
   ]
  },
  {
   "cell_type": "code",
   "execution_count": null,
   "metadata": {},
   "outputs": [],
   "source": [
    "def check_seasonality_and_cyclical_patterns(df: pd.DataFrame):\n",
    "    # Decompose the time series\n",
    "    decomposition = seasonal_decompose(\n",
    "        df[\"Global_active_power\"].dropna(), model=\"additive\", period=24 * 60\n",
    "    )\n",
    "\n",
    "    # Plot decomposition results\n",
    "    plt.figure(figsize=(12, 8))\n",
    "    plt.subplot(411)\n",
    "    plt.plot(decomposition.observed, label=\"Observed\")\n",
    "    plt.legend(loc=\"upper right\")\n",
    "    plt.subplot(412)\n",
    "    plt.plot(decomposition.trend, label=\"Trend\")\n",
    "    plt.legend(loc=\"upper right\")\n",
    "    plt.subplot(413)\n",
    "    plt.plot(decomposition.seasonal, label=\"Seasonal\")\n",
    "    plt.legend(loc=\"upper right\")\n",
    "    plt.subplot(414)\n",
    "    plt.plot(decomposition.resid, label=\"Residual\")\n",
    "    plt.legend(loc=\"upper right\")\n",
    "    plt.show()\n",
    "\n",
    "\n",
    "check_seasonality_and_cyclical_patterns(full_df)"
   ]
  },
  {
   "cell_type": "code",
   "execution_count": null,
   "metadata": {},
   "outputs": [],
   "source": [
    "i = 1\n",
    "cols=[0, 1, 3, 4, 5, 6]\n",
    "plt.figure(figsize=(20, 10))\n",
    "for col in cols:\n",
    "    plt.subplot(len(cols), 1, i)\n",
    "    plt.plot(full_df.resample('D').mean().values[:, col])\n",
    "    plt.title(full_df.columns[col] + ' data resample over day for mean', y=0.75, loc='center')\n",
    "    i += 1\n",
    "plt.show()"
   ]
  },
  {
   "cell_type": "markdown",
   "metadata": {},
   "source": [
    "## 2.3 Analyze Distribution of Power Consumption"
   ]
  },
  {
   "cell_type": "code",
   "execution_count": null,
   "metadata": {},
   "outputs": [],
   "source": [
    "def analyze_distribution_of_power_consumption(df: pd.DataFrame):\n",
    "    # Plot histogram\n",
    "    plt.figure(figsize=(12, 6))\n",
    "    df[\"Global_active_power\"].hist(bins=50)\n",
    "    plt.xlabel(\"Global Active Power (kilowatts)\")\n",
    "    plt.ylabel(\"Frequency\")\n",
    "    plt.title(\"Distribution of Global Active Power\")\n",
    "    plt.show()\n",
    "\n",
    "    # Plot boxplot\n",
    "    plt.figure(figsize=(12, 6))\n",
    "    df.boxplot(column=\"Global_active_power\")\n",
    "    plt.ylabel(\"Global Active Power (kilowatts)\")\n",
    "    plt.title(\"Boxplot of Global Active Power\")\n",
    "    plt.show()\n",
    "\n",
    "analyze_distribution_of_power_consumption(full_df)"
   ]
  },
  {
   "cell_type": "code",
   "execution_count": null,
   "metadata": {},
   "outputs": [],
   "source": [
    "i = 1\n",
    "cols=[0, 1, 3, 4, 5, 6]\n",
    "plt.figure(figsize=(20, 10))\n",
    "for col in cols:\n",
    "    plt.subplot(len(cols), 1, i)\n",
    "    plt.plot(full_df.resample('ME').mean().values[:, col])\n",
    "    plt.title(full_df.columns[col] + ' data resample over month for mean', y=0.75, loc='left')\n",
    "    i += 1\n",
    "plt.show()"
   ]
  },
  {
   "cell_type": "code",
   "execution_count": null,
   "metadata": {},
   "outputs": [],
   "source": [
    "plt.figure(figsize=(6, 6))\n",
    "lag_plot(full_df['Global_active_power'])\n",
    "plt.title('Lag Plot of Global Active Power')\n",
    "plt.show()"
   ]
  },
  {
   "cell_type": "markdown",
   "metadata": {},
   "source": [
    "# 3. Implement a linear regression model to predict power consumption for the last three time periods"
   ]
  },
  {
   "cell_type": "code",
   "execution_count": null,
   "metadata": {},
   "outputs": [],
   "source": [
    "from src.task_2.models.linear_regression import run_linear_regression_e2e"
   ]
  },
  {
   "cell_type": "code",
   "execution_count": null,
   "metadata": {},
   "outputs": [],
   "source": [
    "lr_results = run_linear_regression_e2e(full_df)"
   ]
  },
  {
   "cell_type": "markdown",
   "metadata": {},
   "source": [
    "# 4. Evaluate the linear regression model using appropriate metrics"
   ]
  },
  {
   "cell_type": "code",
   "execution_count": null,
   "metadata": {},
   "outputs": [],
   "source": [
    "print(json.dumps(lr_results, indent=1))"
   ]
  },
  {
   "cell_type": "markdown",
   "metadata": {},
   "source": [
    "# 5. Implement a Recurrent Neural Network (RNN) for power consumption prediction"
   ]
  },
  {
   "cell_type": "code",
   "execution_count": null,
   "metadata": {},
   "outputs": [],
   "source": [
    "from src.task_2.preprocessing.sequence import split_data_x_and_y"
   ]
  },
  {
   "cell_type": "code",
   "execution_count": null,
   "metadata": {},
   "outputs": [],
   "source": [
    "# resample to reduce training time\n",
    "df_resample = full_df.resample('h').mean() \n",
    "df_resample.shape\n",
    "\n",
    "# create global scaler\n",
    "scaler = MinMaxScaler(feature_range=(0, 1))\n",
    "scaled_data = scaler.fit_transform(df_resample)\n",
    "\n",
    "# split into X and y\n",
    "X, y = split_data_x_and_y(df_resample)\n"
   ]
  },
  {
   "cell_type": "code",
   "execution_count": null,
   "metadata": {},
   "outputs": [],
   "source": [
    "# Normalize data using the global scaler\n",
    "scaled_X = scaler.fit_transform(X)\n",
    "scaled_y = scaler.fit_transform(y.reshape(-1, 1))\n"
   ]
  },
  {
   "cell_type": "code",
   "execution_count": null,
   "metadata": {},
   "outputs": [],
   "source": [
    "def create_sequences_x_and_y(data, target, seq_length):\n",
    "    X, y = [], []\n",
    "    for i in range(len(data) - seq_length - 1):\n",
    "        a = data[i : (i + seq_length), 0]\n",
    "        X.append(a)\n",
    "        y.append(target[i + seq_length, 0])\n",
    "    return np.array(X), np.array(y)\n"
   ]
  },
  {
   "cell_type": "code",
   "execution_count": null,
   "metadata": {},
   "outputs": [],
   "source": [
    "t,z = create_sequences_x_and_y(scaled_X, scaled_y, 60)"
   ]
  },
  {
   "cell_type": "code",
   "execution_count": null,
   "metadata": {},
   "outputs": [],
   "source": [
    "from src.task_2.models.rnn import build_rnn_model\n",
    "\n",
    "model = build_rnn_model(60)"
   ]
  },
  {
   "cell_type": "code",
   "execution_count": null,
   "metadata": {},
   "outputs": [],
   "source": [
    "model.fit(X_augmented, y_augmented, epochs=10, batch_size=64)"
   ]
  },
  {
   "cell_type": "code",
   "execution_count": null,
   "metadata": {},
   "outputs": [],
   "source": [
    "from src.task_2.models.rnn import run_rnn_model_e2e"
   ]
  },
  {
   "cell_type": "code",
   "execution_count": null,
   "metadata": {},
   "outputs": [],
   "source": [
    "rnn_results = run_rnn_model_e2e(df_resample)\n",
    "print(json.dumps(rnn_results, indent=1))"
   ]
  },
  {
   "cell_type": "markdown",
   "metadata": {},
   "source": [
    "# 6. Implement Long Short-Term Memory (LSTM) for power consumption prediction"
   ]
  },
  {
   "cell_type": "code",
   "execution_count": null,
   "metadata": {},
   "outputs": [],
   "source": [
    "from src.task_2.models.long_short_term_memory import run_lstm_model_e2e"
   ]
  },
  {
   "cell_type": "code",
   "execution_count": null,
   "metadata": {},
   "outputs": [],
   "source": [
    "run_lstm_model_e2e(df_resample)"
   ]
  },
  {
   "cell_type": "markdown",
   "metadata": {},
   "source": [
    "# 7. Implement an LSTM model with an Attention layer for power consumption prediction"
   ]
  },
  {
   "cell_type": "code",
   "execution_count": null,
   "metadata": {},
   "outputs": [],
   "source": [
    "from src.task_2.models.lstm_with_attention import run_lstm_model_with_attention_e2e"
   ]
  },
  {
   "cell_type": "code",
   "execution_count": null,
   "metadata": {},
   "outputs": [],
   "source": [
    "run_lstm_model_with_attention_e2e(df_resample)"
   ]
  },
  {
   "cell_type": "markdown",
   "metadata": {},
   "source": [
    "# 8. Data augmentation experiment"
   ]
  },
  {
   "cell_type": "code",
   "execution_count": null,
   "metadata": {},
   "outputs": [],
   "source": [
    "from src.task_2.preprocessing.sequence import augment_sequence_data"
   ]
  },
  {
   "cell_type": "code",
   "execution_count": null,
   "metadata": {},
   "outputs": [],
   "source": [
    "from src.task_2.data_modification.augmentation import add_noise\n",
    "# Reshape input to be [samples, time steps, features]\n",
    "t = t.reshape(t.shape[0], t.shape[1], 1)\n",
    "\n",
    "# Augment the data with noise\n",
    "X_augmented = add_noise(t)\n",
    "# Labels remain the same\n",
    "y_augmented = z  "
   ]
  },
  {
   "cell_type": "code",
   "execution_count": null,
   "metadata": {},
   "outputs": [],
   "source": [
    "X_augmented, y_augmented = augment_sequence(df_resample, sequence_length=60)"
   ]
  },
  {
   "cell_type": "code",
   "execution_count": null,
   "metadata": {},
   "outputs": [],
   "source": [
    "from src.task_2.models.rnn import build_rnn_model\n",
    "rnn_model = build_rnn_model(60)\n",
    "history = rnn_model.fit(X_augmented, y_augmented, epochs=10, batch_size=64, verbose=1, callbacks=[early_stopping])"
   ]
  },
  {
   "cell_type": "code",
   "execution_count": null,
   "metadata": {},
   "outputs": [],
   "source": []
  },
  {
   "cell_type": "code",
   "execution_count": null,
   "metadata": {},
   "outputs": [],
   "source": []
  },
  {
   "cell_type": "markdown",
   "metadata": {},
   "source": [
    "# 9. Data reduction experiment"
   ]
  },
  {
   "cell_type": "code",
   "execution_count": null,
   "metadata": {},
   "outputs": [],
   "source": [
    "from src.task_2.data_modification.augmentation import reduce_data_randomly"
   ]
  },
  {
   "cell_type": "code",
   "execution_count": null,
   "metadata": {},
   "outputs": [],
   "source": [
    "# Apply reduction\n",
    "X_reduced, y_reduced = reduce_data_randomly(X, y, reduction_factor=0.1)"
   ]
  },
  {
   "cell_type": "code",
   "execution_count": null,
   "metadata": {},
   "outputs": [],
   "source": []
  },
  {
   "cell_type": "markdown",
   "metadata": {},
   "source": [
    "# 10. Data resolution experiment"
   ]
  },
  {
   "cell_type": "code",
   "execution_count": null,
   "metadata": {},
   "outputs": [],
   "source": [
    "from data_modification.resolution import resample_data_from_1min_to_2min"
   ]
  },
  {
   "cell_type": "code",
   "execution_count": null,
   "metadata": {},
   "outputs": [],
   "source": [
    "resampled_df = resample_data_from_1min_to_2min(full_df)"
   ]
  },
  {
   "cell_type": "code",
   "execution_count": null,
   "metadata": {},
   "outputs": [],
   "source": [
    "# Define the target variable and features\n",
    "features = ['Global_active_power_wh', 'active_energy_without_subs', 'lag_1']\n",
    "target = ['Global_active_power_wh']\n",
    "\n",
    "def create_sequences(data, sequence_length):\n",
    "    sequences = []\n",
    "    targets = []\n",
    "    for i in range(0, len(data) - sequence_length, sequence_length):\n",
    "        seq = data[features].iloc[i:i + sequence_length].values\n",
    "        label = data[target].iloc[i + sequence_length]\n",
    "        sequences.append(seq)\n",
    "        targets.append(label)\n",
    "    return np.array(sequences), np.array(targets)\n",
    "\n",
    "sequence_length = 12\n",
    "sequences, targets = create_sequences(df_10_percent, sequence_length)\n",
    "\n",
    "# Train-test split\n",
    "X_train, X_test, y_train, y_test = train_test_split(sequences, targets, test_size=0.2, random_state=42)\n",
    "\n",
    "# Scale the features and target separately\n",
    "scaler_X = MinMaxScaler()\n",
    "scaler_y = MinMaxScaler()\n",
    "\n",
    "X_train_scaled = scaler_X.fit_transform(X_train.reshape(-1, X_train.shape[-1])).reshape(X_train.shape)\n",
    "X_test_scaled = scaler_X.transform(X_test.reshape(-1, X_test.shape[-1])).reshape(X_test.shape)\n",
    "\n",
    "y_train_scaled = scaler_y.fit_transform(y_train.reshape(-1, 1))\n",
    "y_test_scaled = scaler_y.transform(y_test.reshape(-1, 1))\n",
    "\n",
    "\n",
    "# Design the RNN model\n",
    "rnn_model = Sequential()\n",
    "rnn_model.add(layers.SimpleRNN(50, activation='relu', input_shape=(X_train_scaled.shape[1], X_train_scaled.shape[2])))\n",
    "rnn_model.add(layers.BatchNormalization())\n",
    "rnn_model.add(layers.Dropout(0.2))\n",
    "rnn_model.add(layers.Dense(1))\n",
    "rnn_model.compile(optimizer='adam', loss='mse')\n",
    "\n",
    "# Define early stopping\n",
    "early_stopping = callbacks.EarlyStopping(monitor='loss', patience=4, restore_best_weights=True)\n",
    "\n",
    "# Train the RNN model\n",
    "rnn_history = rnn_model.fit(X_train_scaled, y_train_scaled, epochs=50, batch_size=32, verbose=2, shuffle=False, callbacks=[early_stopping])\n",
    "\n",
    "plot_training_history(rnn_history)\n",
    "\n",
    "# Make predictions with the RNN model\n",
    "y_pred_train_rnn = rnn_model.predict(X_train_scaled)\n",
    "y_pred_test_rnn = rnn_model.predict(X_test_scaled)\n",
    "\n",
    "# Inverse transform the predictions and actual values\n",
    "y_pred_train_rnn_inv = scaler_y.inverse_transform(y_pred_train_rnn).reshape(-1)\n",
    "y_pred_test_rnn_inv = scaler_y.inverse_transform(y_pred_test_rnn).reshape(-1)\n",
    "y_train_inv = scaler_y.inverse_transform(y_train_scaled).reshape(-1)\n",
    "y_test_inv = scaler_y.inverse_transform(y_test_scaled).reshape(-1)\n",
    "\n",
    "# Evaluate RNN model performance\n",
    "mae_rnn = mean_absolute_error(y_test_inv, y_pred_test_rnn_inv)\n",
    "mse_rnn = mean_squared_error(y_test_inv, y_pred_test_rnn_inv)\n",
    "r2_rnn = r2_score(y_test_inv, y_pred_test_rnn_inv)\n",
    "\n",
    "print(f\"RNN - MAE: {mae_rnn}, MSE: {mse_rnn}, R²: {r2_rnn}\")\n",
    "\n",
    "# Plot RNN predictions vs actual values\n",
    "plt.figure(figsize=(12, 6))\n",
    "plt.plot(y_test_inv, label='Actual (Watt-hour)', color='blue')\n",
    "plt.plot(y_pred_test_rnn_inv, label='Predicted (Watt-hour)', color='red')\n",
    "plt.xlabel('Time')\n",
    "plt.ylabel('Global Active Power (Watt-hour)')\n",
    "plt.title('Actual vs Predicted Global Active Power (RNN)')\n",
    "plt.legend()\n",
    "plt.xticks(rotation=45)\n",
    "plt.show()"
   ]
  },
  {
   "cell_type": "markdown",
   "metadata": {},
   "source": [
    "# 11. Conclusion and insights"
   ]
  },
  {
   "cell_type": "markdown",
   "metadata": {},
   "source": []
  }
 ],
 "metadata": {
  "kernelspec": {
   "display_name": "venv",
   "language": "python",
   "name": "python3"
  },
  "language_info": {
   "codemirror_mode": {
    "name": "ipython",
    "version": 3
   },
   "file_extension": ".py",
   "mimetype": "text/x-python",
   "name": "python",
   "nbconvert_exporter": "python",
   "pygments_lexer": "ipython3",
   "version": "3.11.3"
  }
 },
 "nbformat": 4,
 "nbformat_minor": 2
}
