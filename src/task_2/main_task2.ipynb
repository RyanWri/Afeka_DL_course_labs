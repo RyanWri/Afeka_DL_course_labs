{
 "cells": [
  {
   "cell_type": "markdown",
   "metadata": {},
   "source": [
    "# LINK TO GITHUB: [Ran+Shany Repo](https://github.com/RyanWri/Afeka_DL_course_labs/tree/main/src/task_2)\n",
    "\n",
    "**All our code is organized, you can find task2 in src/task_2 directory**"
   ]
  },
  {
   "cell_type": "code",
   "execution_count": 1,
   "metadata": {},
   "outputs": [],
   "source": [
    "import asyncio\n",
    "import pandas as pd\n",
    "import numpy as np\n",
    "import matplotlib.pyplot as plt\n",
    "from statsmodels.tsa.seasonal import seasonal_decompose\n",
    "import nest_asyncio\n",
    "\n",
    "# Allow nested use of asyncio.run()\n",
    "nest_asyncio.apply()"
   ]
  },
  {
   "cell_type": "markdown",
   "metadata": {},
   "source": [
    "# 1 Use the dataset from UCI Machine Learning Repository\n",
    "**We read the data and split it into 10 different chunks for faster reading, data files located in src/task_2/data directory**\n",
    "<br>*Asyncio is an asynchornous library for fast processing time*"
   ]
  },
  {
   "cell_type": "markdown",
   "metadata": {},
   "source": [
    "# 2. Perform Exploratory Data Analysis (EDA) of the dataset"
   ]
  },
  {
   "cell_type": "code",
   "execution_count": 2,
   "metadata": {},
   "outputs": [],
   "source": [
    "from eda.eda import load_and_process_chunk"
   ]
  },
  {
   "cell_type": "code",
   "execution_count": 3,
   "metadata": {},
   "outputs": [],
   "source": [
    "async def process_data_parallel():\n",
    "    chunk_files = [\n",
    "        \"C:/Afeka/Afeka_DL_course_labs/src/task_2/data/household_power_consumption_0.csv\",\n",
    "        \"C:/Afeka/Afeka_DL_course_labs/src/task_2/data/household_power_consumption_207526.csv\",\n",
    "    ]  # Add paths to all chunk files\n",
    "    tasks = [load_and_process_chunk(file) for file in chunk_files]\n",
    "    results = await asyncio.gather(*tasks)\n",
    "\n",
    "    # Concatenate all chunks into a single DataFrame\n",
    "    full_df = pd.concat(results)\n",
    "    return full_df\n",
    "\n",
    "# Run the asynchronous processing\n",
    "full_df = asyncio.run(process_data_parallel())"
   ]
  },
  {
   "cell_type": "markdown",
   "metadata": {},
   "source": [
    "**Plot basic stats on data**"
   ]
  },
  {
   "cell_type": "code",
   "execution_count": null,
   "metadata": {},
   "outputs": [],
   "source": [
    "def plot_dataframe_stats(df: pd.DataFrame):\n",
    "    # Display basic info about the DataFrame\n",
    "    print(df.info())\n",
    "    print(df.head())\n",
    "\n",
    "plot_dataframe_stats(full_df)"
   ]
  },
  {
   "cell_type": "markdown",
   "metadata": {},
   "source": [
    "## 2.1 Visualize Time Series Trends"
   ]
  },
  {
   "cell_type": "code",
   "execution_count": null,
   "metadata": {},
   "outputs": [],
   "source": [
    "def visualize_time_series_trends(df: pd.DataFrame):\n",
    "    # Plot Global_active_power over time\n",
    "    plt.figure(figsize=(12, 6))\n",
    "    plt.plot(df[\"Global_active_power\"], label=\"Global Active Power\")\n",
    "    plt.xlabel(\"Time\")\n",
    "    plt.ylabel(\"Global Active Power (kilowatts)\")\n",
    "    plt.title(\"Global Active Power over Time\")\n",
    "    plt.legend()\n",
    "    plt.show()\n",
    "\n",
    "\n",
    "visualize_time_series_trends(full_df)"
   ]
  },
  {
   "cell_type": "markdown",
   "metadata": {},
   "source": [
    "## 2.2 Check for Seasonality and Cyclical Patterns"
   ]
  },
  {
   "cell_type": "code",
   "execution_count": null,
   "metadata": {},
   "outputs": [],
   "source": [
    "def check_seasonality_and_cyclical_patterns(df: pd.DataFrame):\n",
    "    # Decompose the time series\n",
    "    decomposition = seasonal_decompose(\n",
    "        df[\"Global_active_power\"].dropna(), model=\"additive\", period=24 * 60\n",
    "    )\n",
    "\n",
    "    # Plot decomposition results\n",
    "    plt.figure(figsize=(12, 8))\n",
    "    plt.subplot(411)\n",
    "    plt.plot(decomposition.observed, label=\"Observed\")\n",
    "    plt.legend(loc=\"upper right\")\n",
    "    plt.subplot(412)\n",
    "    plt.plot(decomposition.trend, label=\"Trend\")\n",
    "    plt.legend(loc=\"upper right\")\n",
    "    plt.subplot(413)\n",
    "    plt.plot(decomposition.seasonal, label=\"Seasonal\")\n",
    "    plt.legend(loc=\"upper right\")\n",
    "    plt.subplot(414)\n",
    "    plt.plot(decomposition.resid, label=\"Residual\")\n",
    "    plt.legend(loc=\"upper right\")\n",
    "    plt.show()\n",
    "\n",
    "\n",
    "check_seasonality_and_cyclical_patterns(full_df)"
   ]
  },
  {
   "cell_type": "markdown",
   "metadata": {},
   "source": [
    "## 2.3 Analyze Distribution of Power Consumption"
   ]
  },
  {
   "cell_type": "code",
   "execution_count": null,
   "metadata": {},
   "outputs": [],
   "source": [
    "def analyze_distribution_of_power_consumption(df: pd.DataFrame):\n",
    "    # Plot histogram\n",
    "    plt.figure(figsize=(12, 6))\n",
    "    df[\"Global_active_power\"].hist(bins=50)\n",
    "    plt.xlabel(\"Global Active Power (kilowatts)\")\n",
    "    plt.ylabel(\"Frequency\")\n",
    "    plt.title(\"Distribution of Global Active Power\")\n",
    "    plt.show()\n",
    "\n",
    "    # Plot boxplot\n",
    "    plt.figure(figsize=(12, 6))\n",
    "    df.boxplot(column=\"Global_active_power\")\n",
    "    plt.ylabel(\"Global Active Power (kilowatts)\")\n",
    "    plt.title(\"Boxplot of Global Active Power\")\n",
    "    plt.show()\n",
    "\n",
    "analyze_distribution_of_power_consumption(full_df)"
   ]
  },
  {
   "cell_type": "markdown",
   "metadata": {},
   "source": [
    "# 3. Implement a linear regression model to predict power consumption for the last three time periods"
   ]
  },
  {
   "cell_type": "code",
   "execution_count": null,
   "metadata": {},
   "outputs": [],
   "source": [
    "from sklearn.linear_model import LinearRegression\n",
    "from sklearn.model_selection import train_test_split\n",
    "from models.linear_regression import split_data_append_lagged_features, run_linear_regression\n",
    "from evaluation.model_evaluation import run_model_evaluation"
   ]
  },
  {
   "cell_type": "code",
   "execution_count": null,
   "metadata": {},
   "outputs": [],
   "source": [
    "X_train, X_test, y_train, y_test = split_data_append_lagged_features(full_df)\n",
    "linear_reg = run_linear_regression(X_train, y_train, X_test, y_test)\n",
    "\n",
    "# Make predictions on the testing data\n",
    "y_pred_lr = linear_reg.predict(X_test)\n",
    "\n",
    "# Evaluate the model\n",
    "lr_results = run_model_evaluation(y_test, y_pred_lr)"
   ]
  },
  {
   "cell_type": "markdown",
   "metadata": {},
   "source": [
    "# 4. Evaluate the linear regression model using appropriate metrics"
   ]
  },
  {
   "cell_type": "code",
   "execution_count": null,
   "metadata": {},
   "outputs": [],
   "source": [
    "import json\n",
    "print(json.dumps(lr_results, indent=1))"
   ]
  },
  {
   "cell_type": "markdown",
   "metadata": {},
   "source": [
    "# 5. Implement a Recurrent Neural Network (RNN) for power consumption prediction"
   ]
  },
  {
   "cell_type": "code",
   "execution_count": null,
   "metadata": {},
   "outputs": [],
   "source": [
    "from models.rnn import build_rnn_model\n",
    "from preprocessing.rnn import preprocess as rnn_preprocess\n",
    "from preprocessing.rnn import train_test_split_sequence as rnn_split\n",
    "from evaluation.model_evaluation import run_model_evaluation\n",
    "import keras"
   ]
  },
  {
   "cell_type": "code",
   "execution_count": null,
   "metadata": {},
   "outputs": [],
   "source": [
    "sequence_length = 60\n",
    "X, y = rnn_preprocess(full_df, sequence_length)"
   ]
  },
  {
   "cell_type": "code",
   "execution_count": null,
   "metadata": {},
   "outputs": [],
   "source": [
    "X_train, X_test, y_train, y_test = rnn_split(X, y)\n",
    "rnn_model = build_rnn_model(sequence_length, X_train)"
   ]
  },
  {
   "cell_type": "code",
   "execution_count": null,
   "metadata": {},
   "outputs": [],
   "source": [
    "early_stopping = keras.callbacks.EarlyStopping(monitor=\"val_loss\", patience=2)\n",
    "history = rnn_model.fit(\n",
    "    X_train,\n",
    "    y_train,\n",
    "    epochs=10,\n",
    "    batch_size=64,\n",
    "    validation_data=(X_test, y_test),\n",
    "    callbacks=[early_stopping],\n",
    ")"
   ]
  },
  {
   "cell_type": "code",
   "execution_count": null,
   "metadata": {},
   "outputs": [],
   "source": [
    "# Evaluate the model\n",
    "loss = rnn_model.evaluate(X_test, y_test)\n",
    "print(f\"Test loss: {loss}\")\n",
    "# Make predictions\n",
    "predictions = rnn_model.predict(X_test)"
   ]
  },
  {
   "cell_type": "code",
   "execution_count": null,
   "metadata": {},
   "outputs": [],
   "source": [
    "rnn_results = run_model_evaluation(y_test, predictions)\n",
    "print(json.dumps(rnn_results, indent=1))"
   ]
  },
  {
   "cell_type": "markdown",
   "metadata": {},
   "source": [
    "# 6. Implement Long Short-Term Memory (LSTM) for power consumption prediction"
   ]
  },
  {
   "cell_type": "code",
   "execution_count": null,
   "metadata": {},
   "outputs": [],
   "source": [
    "from models.long_short_term_memory import run_lstm_model_e2e"
   ]
  },
  {
   "cell_type": "code",
   "execution_count": null,
   "metadata": {},
   "outputs": [],
   "source": [
    "run_lstm_model_e2e(full_df)"
   ]
  },
  {
   "cell_type": "markdown",
   "metadata": {},
   "source": [
    "# 7. Implement an LSTM model with an Attention layer for power consumption prediction"
   ]
  },
  {
   "cell_type": "code",
   "execution_count": null,
   "metadata": {},
   "outputs": [],
   "source": [
    "from models.lstm_with_attention import run_lstm_with_attention_e2e"
   ]
  },
  {
   "cell_type": "code",
   "execution_count": null,
   "metadata": {},
   "outputs": [],
   "source": [
    "run_lstm_with_attention_e2e(full_df)"
   ]
  },
  {
   "cell_type": "markdown",
   "metadata": {},
   "source": [
    "# 8. Data augmentation experiment"
   ]
  },
  {
   "cell_type": "code",
   "execution_count": null,
   "metadata": {},
   "outputs": [],
   "source": [
    "from task_2.data_modification.augmentation import add_noise, scale_data, shift_data, window_slicing"
   ]
  },
  {
   "cell_type": "code",
   "execution_count": null,
   "metadata": {},
   "outputs": [],
   "source": [
    "X_combined = np.concatenate([X, add_noise(X), scale_data(X), shift_data(X), window_slicing(X)], axis=0)\n",
    "y_combined = np.concatenate([y, y, y, y, y], axis=0)"
   ]
  },
  {
   "cell_type": "code",
   "execution_count": null,
   "metadata": {},
   "outputs": [],
   "source": [
    "X_train_augment, X_test_augment, y_train_augment, y_test_augment = rnn_split(X_combined, y_combined)"
   ]
  },
  {
   "cell_type": "markdown",
   "metadata": {},
   "source": [
    "# 9. Data reduction experiment"
   ]
  },
  {
   "cell_type": "code",
   "execution_count": null,
   "metadata": {},
   "outputs": [],
   "source": [
    "from task_2.data_modification.augmentation import reduce_data_randomly"
   ]
  },
  {
   "cell_type": "code",
   "execution_count": null,
   "metadata": {},
   "outputs": [],
   "source": [
    "# Apply reduction\n",
    "X_reduced, y_reduced = reduce_data_randomly(X, y, reduction_factor=0.1)"
   ]
  },
  {
   "cell_type": "code",
   "execution_count": null,
   "metadata": {},
   "outputs": [],
   "source": []
  },
  {
   "cell_type": "markdown",
   "metadata": {},
   "source": [
    "# 10. Data resolution experiment"
   ]
  },
  {
   "cell_type": "code",
   "execution_count": null,
   "metadata": {},
   "outputs": [],
   "source": [
    "from data_modification.resolution import resample_data_from_1min_to_2min"
   ]
  },
  {
   "cell_type": "code",
   "execution_count": null,
   "metadata": {},
   "outputs": [],
   "source": [
    "resampled_df = resample_data_from_1min_to_2min(full_df)"
   ]
  },
  {
   "cell_type": "markdown",
   "metadata": {},
   "source": [
    "# 11. Conclusion and insights"
   ]
  },
  {
   "cell_type": "markdown",
   "metadata": {},
   "source": []
  }
 ],
 "metadata": {
  "kernelspec": {
   "display_name": "venv",
   "language": "python",
   "name": "python3"
  },
  "language_info": {
   "codemirror_mode": {
    "name": "ipython",
    "version": 3
   },
   "file_extension": ".py",
   "mimetype": "text/x-python",
   "name": "python",
   "nbconvert_exporter": "python",
   "pygments_lexer": "ipython3",
   "version": "3.11.3"
  }
 },
 "nbformat": 4,
 "nbformat_minor": 2
}
