{
 "cells": [
  {
   "cell_type": "markdown",
   "metadata": {},
   "source": [
    "## Part 1\n",
    "**Load data, process it, handle nans and outliers concurrently**"
   ]
  },
  {
   "cell_type": "code",
   "execution_count": null,
   "id": "1317c771-2ce9-445c-aab4-0d854bbbc994",
   "metadata": {},
   "outputs": [],
   "source": [
    "import asyncio\n",
    "import pandas as pd\n",
    "import numpy as np\n",
    "import matplotlib.pyplot as plt\n",
    "from statsmodels.tsa.seasonal import seasonal_decompose\n",
    "import nest_asyncio\n",
    "\n",
    "# Allow nested use of asyncio.run()\n",
    "nest_asyncio.apply()"
   ]
  },
  {
   "cell_type": "code",
   "execution_count": null,
   "metadata": {},
   "outputs": [],
   "source": [
    "async def load_and_process_chunk(file_path: str) -> pd.DataFrame:\n",
    "    # Load a single chunk\n",
    "    df = pd.read_csv(\n",
    "        file_path,\n",
    "        low_memory=False,\n",
    "    )\n",
    "\n",
    "    # Combine Date and Time into a single datetime column and set as index\n",
    "    df[\"dt\"] = pd.to_datetime(df[\"Date\"] + \" \" + df[\"Time\"], format=\"%d/%m/%Y %H:%M:%S\")\n",
    "    df.set_index(\"dt\", inplace=True)\n",
    "    # Drop the original Date and Time columns\n",
    "    df.drop(columns=[\"Date\", \"Time\"], inplace=True)\n",
    "    # Drop rows with missing values\n",
    "    df.replace(\"?\", np.nan, inplace=True)\n",
    "\n",
    "    # set all columns as float\n",
    "    for col in df.columns:\n",
    "        df[col] = df[col].astype(\"float64\")\n",
    "\n",
    "    # Handle missing values by filling them with the median of each column\n",
    "    for column in df.columns:\n",
    "        if df[column].isnull().sum() > 0:\n",
    "            df[column].fillna(df[column].median(), inplace=True)\n",
    "\n",
    "    # Step 5: Identify and Handle Outliers\n",
    "    # Detect and handle outliers by capping at the 99th percentile\n",
    "    upper_limit = df[\"Global_active_power\"].quantile(0.99)\n",
    "    df[\"Global_active_power\"] = df[\"Global_active_power\"].clip(upper=upper_limit)\n",
    "\n",
    "    return df"
   ]
  },
  {
   "cell_type": "code",
   "execution_count": null,
   "metadata": {},
   "outputs": [],
   "source": [
    "async def process_data_parallel():\n",
    "    chunk_files = [\n",
    "        \"C:/Afeka/Afeka_DL_course_labs/src/task_2/data/household_power_consumption_0.csv\",\n",
    "        \"C:/Afeka/Afeka_DL_course_labs/src/task_2/data/household_power_consumption_207526.csv\",\n",
    "    ]  # Add paths to all chunk files\n",
    "    tasks = [load_and_process_chunk(file) for file in chunk_files]\n",
    "    results = await asyncio.gather(*tasks)\n",
    "\n",
    "    # Concatenate all chunks into a single DataFrame\n",
    "    full_df = pd.concat(results)\n",
    "    return full_df\n",
    "\n",
    "# Run the asynchronous processing\n",
    "full_df = asyncio.run(process_data_parallel())"
   ]
  },
  {
   "cell_type": "markdown",
   "metadata": {},
   "source": [
    "**Plot basic stats on data**"
   ]
  },
  {
   "cell_type": "code",
   "execution_count": null,
   "metadata": {},
   "outputs": [],
   "source": [
    "def plot_dataframe_stats(df: pd.DataFrame):\n",
    "    # Display basic info about the DataFrame\n",
    "    print(df.info())\n",
    "    print(df.head())\n",
    "\n",
    "plot_dataframe_stats(full_df)"
   ]
  },
  {
   "cell_type": "markdown",
   "metadata": {},
   "source": [
    "# Step 2: Visualize Time Series Trends"
   ]
  },
  {
   "cell_type": "code",
   "execution_count": null,
   "metadata": {},
   "outputs": [],
   "source": [
    "def visualize_time_series_trends(df: pd.DataFrame):\n",
    "    # Plot Global_active_power over time\n",
    "    plt.figure(figsize=(12, 6))\n",
    "    plt.plot(df[\"Global_active_power\"], label=\"Global Active Power\")\n",
    "    plt.xlabel(\"Time\")\n",
    "    plt.ylabel(\"Global Active Power (kilowatts)\")\n",
    "    plt.title(\"Global Active Power over Time\")\n",
    "    plt.legend()\n",
    "    plt.show()\n",
    "\n",
    "\n",
    "visualize_time_series_trends(full_df)"
   ]
  },
  {
   "cell_type": "markdown",
   "metadata": {},
   "source": [
    "# Step 3: Check for Seasonality and Cyclical Patterns"
   ]
  },
  {
   "cell_type": "code",
   "execution_count": null,
   "metadata": {},
   "outputs": [],
   "source": [
    "def check_seasonality_and_cyclical_patterns(df: pd.DataFrame):\n",
    "    # Decompose the time series\n",
    "    decomposition = seasonal_decompose(\n",
    "        df[\"Global_active_power\"].dropna(), model=\"additive\", period=24 * 60\n",
    "    )\n",
    "\n",
    "    # Plot decomposition results\n",
    "    plt.figure(figsize=(12, 8))\n",
    "    plt.subplot(411)\n",
    "    plt.plot(decomposition.observed, label=\"Observed\")\n",
    "    plt.legend(loc=\"upper right\")\n",
    "    plt.subplot(412)\n",
    "    plt.plot(decomposition.trend, label=\"Trend\")\n",
    "    plt.legend(loc=\"upper right\")\n",
    "    plt.subplot(413)\n",
    "    plt.plot(decomposition.seasonal, label=\"Seasonal\")\n",
    "    plt.legend(loc=\"upper right\")\n",
    "    plt.subplot(414)\n",
    "    plt.plot(decomposition.resid, label=\"Residual\")\n",
    "    plt.legend(loc=\"upper right\")\n",
    "    plt.show()\n",
    "\n",
    "\n",
    "check_seasonality_and_cyclical_patterns(full_df)"
   ]
  },
  {
   "cell_type": "markdown",
   "metadata": {},
   "source": [
    "# Step 4: Analyze Distribution of Power Consumption"
   ]
  },
  {
   "cell_type": "code",
   "execution_count": null,
   "metadata": {},
   "outputs": [],
   "source": [
    "def analyze_distribution_of_power_consumption(df: pd.DataFrame):\n",
    "    # Plot histogram\n",
    "    plt.figure(figsize=(12, 6))\n",
    "    df[\"Global_active_power\"].hist(bins=50)\n",
    "    plt.xlabel(\"Global Active Power (kilowatts)\")\n",
    "    plt.ylabel(\"Frequency\")\n",
    "    plt.title(\"Distribution of Global Active Power\")\n",
    "    plt.show()\n",
    "\n",
    "    # Plot boxplot\n",
    "    plt.figure(figsize=(12, 6))\n",
    "    df.boxplot(column=\"Global_active_power\")\n",
    "    plt.ylabel(\"Global Active Power (kilowatts)\")\n",
    "    plt.title(\"Boxplot of Global Active Power\")\n",
    "    plt.show()\n",
    "\n",
    "analyze_distribution_of_power_consumption(full_df)"
   ]
  },
  {
   "cell_type": "markdown",
   "metadata": {},
   "source": [
    "# Implement a linear regression model to predict power consumption for the last three time periods"
   ]
  },
  {
   "cell_type": "code",
   "execution_count": null,
   "metadata": {},
   "outputs": [],
   "source": [
    "from sklearn.linear_model import LinearRegression\n",
    "from sklearn.model_selection import train_test_split"
   ]
  },
  {
   "cell_type": "code",
   "execution_count": null,
   "metadata": {},
   "outputs": [],
   "source": [
    "\n",
    "def split_data_append_lagged_features(full_df):\n",
    "    # Create lagged features\n",
    "    full_df[\"lag_1\"] = full_df[\"Global_active_power\"].shift(1)\n",
    "    full_df[\"lag_2\"] = full_df[\"Global_active_power\"].shift(2)\n",
    "    full_df[\"lag_3\"] = full_df[\"Global_active_power\"].shift(3)\n",
    "\n",
    "    # Drop any rows with NaN values created by the shift operation\n",
    "    full_df.dropna(inplace=True)\n",
    "\n",
    "    # Define the target variable and features\n",
    "    X = full_df[[\"lag_1\", \"lag_2\", \"lag_3\"]]\n",
    "    y = full_df[\"Global_active_power\"]\n",
    "\n",
    "    # Split the data into training and testing sets\n",
    "    X_train, X_test, y_train, y_test = train_test_split(\n",
    "        X, y, test_size=0.2, random_state=42\n",
    "    )\n",
    "\n",
    "    print(\"Training set size:\", X_train.shape)\n",
    "    print(\"Testing set size:\", X_test.shape)\n",
    "\n",
    "    return X_train, X_test, y_train, y_test "
   ]
  },
  {
   "cell_type": "code",
   "execution_count": null,
   "metadata": {},
   "outputs": [],
   "source": [
    "def run_linear_regression(X_train, y_train, X_test, y_test):\n",
    "    # Initialize the models\n",
    "    linear_reg = LinearRegression()\n",
    "\n",
    "    # Train Linear Regression\n",
    "    linear_reg.fit(X_train, y_train)\n",
    "\n",
    "    return linear_reg"
   ]
  },
  {
   "cell_type": "code",
   "execution_count": null,
   "metadata": {},
   "outputs": [],
   "source": [
    "from sklearn.metrics import mean_absolute_error, mean_squared_error, r2_score\n",
    "\n",
    "X_train, X_test, y_train, y_test = split_data_append_lagged_features(full_df)\n",
    "linear_reg = run_linear_regression(X_train, y_train, X_test, y_test)\n",
    "\n",
    "# Make predictions on the testing data\n",
    "y_pred_lr = linear_reg.predict(X_test)\n",
    "\n",
    "# Evaluation metrics\n",
    "mae_lr = mean_absolute_error(y_test, y_pred_lr)\n",
    "mse_lr = mean_squared_error(y_test, y_pred_lr)\n",
    "r2_lr = r2_score(y_test, y_pred_lr)\n",
    "\n",
    "print(f\"Linear Regression - MAE: {mae_lr}, MSE: {mse_lr}, R²: {r2_lr}\")"
   ]
  },
  {
   "cell_type": "code",
   "execution_count": null,
   "metadata": {},
   "outputs": [],
   "source": [
    "import matplotlib.pyplot as plt\n",
    "\n",
    "# Ensure the index is datetime for the testing set\n",
    "X_test_indexed = X_test.copy()\n",
    "X_test_indexed['dt'] = y_test.index\n",
    "\n",
    "# Plot predictions vs actual values with datetime on the x-axis\n",
    "plt.figure(figsize=(12, 6))\n",
    "plt.plot(X_test_indexed['dt'], y_test.values, label='Actual', color='blue')\n",
    "plt.plot(X_test_indexed['dt'], y_pred_lr, label='Predicted', color='red')\n",
    "plt.xlabel('Time')\n",
    "plt.ylabel('Global Active Power (kilowatts)')\n",
    "plt.title('Actual vs Predicted Global Active Power')\n",
    "plt.legend()\n",
    "plt.xticks(rotation=45)\n",
    "plt.show()\n"
   ]
  },
  {
   "cell_type": "markdown",
   "metadata": {},
   "source": [
    "# Here you need to append the Entire RNN Notebook"
   ]
  },
  {
   "cell_type": "markdown",
   "metadata": {},
   "source": []
  },
  {
   "cell_type": "markdown",
   "metadata": {},
   "source": [
    "# LSTM MODEL"
   ]
  },
  {
   "cell_type": "markdown",
   "metadata": {},
   "source": []
  }
 ],
 "metadata": {
  "kernelspec": {
   "display_name": "venv",
   "language": "python",
   "name": "python3"
  },
  "language_info": {
   "codemirror_mode": {
    "name": "ipython",
    "version": 3
   },
   "file_extension": ".py",
   "mimetype": "text/x-python",
   "name": "python",
   "nbconvert_exporter": "python",
   "pygments_lexer": "ipython3",
   "version": "3.11.3"
  }
 },
 "nbformat": 4,
 "nbformat_minor": 2
}
